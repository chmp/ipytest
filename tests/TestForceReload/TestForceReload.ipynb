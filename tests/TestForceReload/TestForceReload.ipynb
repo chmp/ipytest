{
 "cells": [
  {
   "cell_type": "markdown",
   "id": "03e0d958-a795-440b-bdc6-f67e7a4794ac",
   "metadata": {},
   "source": [
    "# Test the `force_reload` config\n",
    "\n",
    "Test that external test files are reload if `force_reload` is configured."
   ]
  },
  {
   "cell_type": "code",
   "execution_count": null,
   "id": "60bd1b98-5bcc-440f-af64-38333ee954db",
   "metadata": {},
   "outputs": [],
   "source": [
    "from pathlib import Path\n",
    "\n",
    "import ipytest\n",
    "ipytest.autoconfig(force_reload=\"test_*\")"
   ]
  },
  {
   "cell_type": "code",
   "execution_count": null,
   "id": "133d35ff-256a-4eba-848e-8815d9a454a2",
   "metadata": {},
   "outputs": [],
   "source": [
    "Path(\"tests/test_example.py\").write_text(\"\"\"\n",
    "def test():\n",
    "    assert False\n",
    "\"\"\")\n",
    "pass"
   ]
  },
  {
   "cell_type": "code",
   "execution_count": null,
   "id": "0b1259bc-1aac-4b65-bb1c-b6ea9889dbec",
   "metadata": {
    "editable": true,
    "slideshow": {
     "slide_type": ""
    },
    "tags": [
     "nbval-raises-exception"
    ]
   },
   "outputs": [],
   "source": [
    "%%ipytest tests\n",
    "\n",
    "pass"
   ]
  },
  {
   "cell_type": "code",
   "execution_count": null,
   "id": "0ddb784e-3ec2-437d-bb43-714fd100c829",
   "metadata": {},
   "outputs": [],
   "source": [
    "assert ipytest.exit_code != 0"
   ]
  },
  {
   "cell_type": "code",
   "execution_count": null,
   "id": "56e168cf-0be4-47fc-9bd3-cc42694f8a0d",
   "metadata": {
    "editable": true,
    "slideshow": {
     "slide_type": ""
    },
    "tags": []
   },
   "outputs": [],
   "source": [
    "Path(\"tests/test_example.py\").write_text(\"\"\"\n",
    "def test():\n",
    "    assert True\n",
    "\"\"\")\n",
    "pass"
   ]
  },
  {
   "cell_type": "code",
   "execution_count": null,
   "id": "d3ad04f6-236b-40b2-bf60-778147f80517",
   "metadata": {},
   "outputs": [],
   "source": [
    "%%ipytest tests\n",
    "\n",
    "pass"
   ]
  },
  {
   "cell_type": "code",
   "execution_count": null,
   "id": "0dc9d353-d2d3-49d9-8507-be37a7019d6f",
   "metadata": {},
   "outputs": [],
   "source": [
    "assert ipytest.exit_code == 0"
   ]
  },
  {
   "cell_type": "code",
   "execution_count": null,
   "id": "39194335-4dd8-4137-9a5e-eafdcaff870f",
   "metadata": {},
   "outputs": [],
   "source": []
  }
 ],
 "metadata": {
  "kernelspec": {
   "display_name": "Python 3 (ipykernel)",
   "language": "python",
   "name": "python3"
  },
  "language_info": {
   "codemirror_mode": {
    "name": "ipython",
    "version": 3
   },
   "file_extension": ".py",
   "mimetype": "text/x-python",
   "name": "python",
   "nbconvert_exporter": "python",
   "pygments_lexer": "ipython3",
   "version": "3.11.3"
  }
 },
 "nbformat": 4,
 "nbformat_minor": 5
}
