{
 "cells": [
  {
   "cell_type": "code",
   "execution_count": 1,
   "metadata": {},
   "outputs": [],
   "source": [
    "import ipytest\n",
    "ipytest.autoconfig()"
   ]
  },
  {
   "cell_type": "code",
   "execution_count": 9,
   "metadata": {},
   "outputs": [],
   "source": [
    "%%ipytest\n",
    "\n",
    "\n",
    "def test_example(value_from_conftest):\n",
    "    assert value_from_conftest == 42"
   ]
  }
 ],
 "metadata": {
    "celltoolbar": "Tags",
    "language_info": {
     "file_extension": ".py",
     "mimetype": "text/x-python",
     "name": "python"
    }
  },
 "nbformat": 4,
 "nbformat_minor": 2
}
