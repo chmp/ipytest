{
 "cells": [
  {
   "cell_type": "code",
   "execution_count": null,
   "id": "d32b9292-2a37-47b7-8451-c24b4c6cf65a",
   "metadata": {},
   "outputs": [],
   "source": [
    "import ipytest\n",
    "ipytest.autoconfig(coverage=True)"
   ]
  },
  {
   "cell_type": "code",
   "execution_count": null,
   "id": "4ffcb1df-d1fd-42f0-a0d4-c227e3be17ac",
   "metadata": {},
   "outputs": [],
   "source": [
    "import json\n",
    "import linecache\n",
    "\n",
    "from pathlib import Path\n",
    "\n",
    "\n",
    "def get_executed_lines(data, filename):\n",
    "    return [\n",
    "        linecache.getline(filename, line).strip()\n",
    "        for line in sorted(data[\"files\"][filename][\"executed_lines\"])\n",
    "    ]\n",
    "\n",
    "\n",
    "def check_coverage():\n",
    "    assert Path(\".coverage\").exists()\n",
    "    assert Path(\"coverage.json\").exists()\n",
    "    \n",
    "    with open(\"coverage.json\", \"rt\") as fobj:\n",
    "        data = json.load(fobj)\n",
    "    \n",
    "    assert get_executed_lines(data, func.__code__.co_filename) == [\n",
    "        \"if x % 2 == 0:\", \n",
    "        \"return \\\"even\\\"\", \n",
    "        \"return \\\"odd\\\"\",\n",
    "    ]\n",
    "    \n",
    "    assert get_executed_lines(data, test.__code__.co_filename) == [\n",
    "        \"assert func(0) == \\\"even\\\"\",\n",
    "        \"assert func(1) == \\\"odd\\\"\",\n",
    "        \"assert func(2) == \\\"even\\\"\",\n",
    "        \"assert func(3) == \\\"odd\\\"\",\n",
    "    ]\n",
    "\n",
    "\n",
    "def delete_generated_files():\n",
    "    Path(\".coverage\").unlink(missing_ok=True)\n",
    "    Path(\"coverage.json\").unlink(missing_ok=True)\n",
    "\n",
    "def func(x):\n",
    "    if x % 2 == 0:\n",
    "        return \"even\"\n",
    "\n",
    "    else:\n",
    "        return \"odd\""
   ]
  },
  {
   "cell_type": "markdown",
   "id": "84a35ab0-24c0-492b-8338-598029e0d7e1",
   "metadata": {},
   "source": [
    "# without branch coverage"
   ]
  },
  {
   "cell_type": "code",
   "execution_count": null,
   "id": "5083c7e5-05a5-4e5e-8149-8d2897180bbf",
   "metadata": {},
   "outputs": [],
   "source": [
    "delete_generated_files()"
   ]
  },
  {
   "cell_type": "code",
   "execution_count": null,
   "id": "6003ecec-0ee8-4a95-bec2-c12cfa4ceb31",
   "metadata": {},
   "outputs": [],
   "source": [
    "%%ipytest --cov --cov-report=json\n",
    "\n",
    "def test():\n",
    "    assert func(0) == \"even\"\n",
    "    assert func(1) == \"odd\"\n",
    "    assert func(2) == \"even\"\n",
    "    assert func(3) == \"odd\""
   ]
  },
  {
   "cell_type": "code",
   "execution_count": null,
   "id": "5b4e226a-8170-4830-88b3-90fe8fe4fd2a",
   "metadata": {},
   "outputs": [],
   "source": [
    "check_coverage()"
   ]
  },
  {
   "cell_type": "markdown",
   "id": "52973cee-3ae9-498b-bd83-10fd053331ce",
   "metadata": {},
   "source": [
    "# with branch coverage"
   ]
  },
  {
   "cell_type": "code",
   "execution_count": null,
   "id": "d91378c5-ff72-41f7-a457-1517e3c6fb87",
   "metadata": {},
   "outputs": [],
   "source": [
    "delete_generated_files()"
   ]
  },
  {
   "cell_type": "code",
   "execution_count": null,
   "id": "d46f99a2-97e7-4493-899d-13e66ef82d34",
   "metadata": {},
   "outputs": [],
   "source": [
    "%%ipytest --cov --cov-branch --cov-report=json\n",
    "\n",
    "def test():\n",
    "    assert func(0) == \"even\"\n",
    "    assert func(1) == \"odd\"\n",
    "    assert func(2) == \"even\"\n",
    "    assert func(3) == \"odd\""
   ]
  },
  {
   "cell_type": "code",
   "execution_count": null,
   "id": "0e411051-a6b7-4b65-b2fc-1d6ddc9874f8",
   "metadata": {},
   "outputs": [],
   "source": [
    "check_coverage()"
   ]
  },
  {
   "cell_type": "code",
   "execution_count": null,
   "id": "d74022a8-4fae-45e3-8684-be4bd8093fde",
   "metadata": {},
   "outputs": [],
   "source": []
  }
 ],
 "metadata": {
  "kernelspec": {
   "display_name": "Python 3 (ipykernel)",
   "language": "python",
   "name": "python3"
  },
  "language_info": {
   "codemirror_mode": {
    "name": "ipython",
    "version": 3
   },
   "file_extension": ".py",
   "mimetype": "text/x-python",
   "name": "python",
   "nbconvert_exporter": "python",
   "pygments_lexer": "ipython3",
   "version": "3.11.3"
  }
 },
 "nbformat": 4,
 "nbformat_minor": 5
}
