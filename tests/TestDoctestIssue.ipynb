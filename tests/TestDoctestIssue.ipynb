{
 "cells": [
  {
   "cell_type": "code",
   "execution_count": null,
   "metadata": {},
   "outputs": [],
   "source": [
    "# as reported in https://github.com/chmp/ipytest/issues/24\n",
    "import ipytest\n",
    "\n",
    "ipytest.autoconfig()"
   ]
  },
  {
   "cell_type": "code",
   "execution_count": null,
   "metadata": {},
   "outputs": [],
   "source": [
    "%%ipytest --doctest-modules\n",
    "\n",
    "\n",
    "def foo(x):\n",
    "    \"\"\"\n",
    "    >>> foo(2)\n",
    "    4\n",
    "    \"\"\"\n",
    "    return x * 2"
   ]
  }
 ],
 "metadata": {
  "kernelspec": {
   "display_name": "ipytest",
   "language": "python",
   "name": "ipytest"
  },
  "language_info": {
   "codemirror_mode": {
    "name": "ipython",
    "version": 3
   },
   "file_extension": ".py",
   "mimetype": "text/x-python",
   "name": "python",
   "nbconvert_exporter": "python",
   "pygments_lexer": "ipython3",
   "version": "3.8.0"
  }
 },
 "nbformat": 4,
 "nbformat_minor": 4
}
