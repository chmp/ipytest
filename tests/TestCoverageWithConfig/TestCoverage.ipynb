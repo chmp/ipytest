{
 "cells": [
  {
   "cell_type": "markdown",
   "id": "bf900d0d-7eba-4ca1-b738-a64d55f82f61",
   "metadata": {},
   "source": [
    "Note: this notebook requires a `.coveragerc` file next to it with the following content:\n",
    "\n",
    "```ini\n",
    "[run]\n",
    "plugins =\n",
    "    ipytest.cov\n",
    "```"
   ]
  },
  {
   "cell_type": "code",
   "execution_count": null,
   "id": "bdf258d0-b8b7-4fbb-96c7-664d120c4abc",
   "metadata": {},
   "outputs": [],
   "source": [
    "import ipytest\n",
    "ipytest.autoconfig()"
   ]
  },
  {
   "cell_type": "code",
   "execution_count": null,
   "id": "dc478ce9-6551-4332-9d21-b9a50f455d1d",
   "metadata": {},
   "outputs": [],
   "source": [
    "import json\n",
    "import linecache\n",
    "\n",
    "from pathlib import Path\n",
    "\n",
    "\n",
    "def get_executed_lines(data, filename):\n",
    "    return [\n",
    "        linecache.getline(filename, line).strip()\n",
    "        for line in sorted(data[\"files\"][filename][\"executed_lines\"])\n",
    "    ]\n",
    "\n",
    "\n",
    "def func(x):\n",
    "    if x % 2 == 0:\n",
    "        return \"even\"\n",
    "\n",
    "    else:\n",
    "        return \"odd\"\n",
    "\n",
    "\n",
    "# delete generated files\n",
    "Path(\".coverage\").unlink(missing_ok=True)\n",
    "Path(\"coverage.json\").unlink(missing_ok=True)"
   ]
  },
  {
   "cell_type": "code",
   "execution_count": null,
   "id": "f82fbdcb-2460-4f14-9ee5-c69571b4acfd",
   "metadata": {},
   "outputs": [],
   "source": [
    "%%ipytest --cov --cov-report=json\n",
    "\n",
    "def test():\n",
    "    assert func(0) == \"even\"\n",
    "    assert func(1) == \"odd\"\n",
    "    assert func(2) == \"even\"\n",
    "    assert func(3) == \"odd\""
   ]
  },
  {
   "cell_type": "code",
   "execution_count": null,
   "id": "e8919526-cff6-4d8b-924b-bb313c4d8484",
   "metadata": {},
   "outputs": [],
   "source": [
    "assert Path(\".coverage\").exists()\n",
    "assert Path(\"coverage.json\").exists()\n",
    "\n",
    "with open(\"coverage.json\", \"rt\") as fobj:\n",
    "    data = json.load(fobj)\n",
    "\n",
    "assert get_executed_lines(data, func.__code__.co_filename) == [\n",
    "    \"if x % 2 == 0:\", \n",
    "    \"return \\\"even\\\"\", \n",
    "    \"return \\\"odd\\\"\",\n",
    "]\n",
    "\n",
    "assert get_executed_lines(data, test.__code__.co_filename) == [\n",
    "    \"assert func(0) == \\\"even\\\"\",\n",
    "    \"assert func(1) == \\\"odd\\\"\",\n",
    "    \"assert func(2) == \\\"even\\\"\",\n",
    "    \"assert func(3) == \\\"odd\\\"\",\n",
    "]"
   ]
  },
  {
   "cell_type": "code",
   "execution_count": null,
   "id": "db0a0b1c-d7bc-4550-8033-f0f569b8cdad",
   "metadata": {},
   "outputs": [],
   "source": []
  }
 ],
 "metadata": {
  "kernelspec": {
   "display_name": "Python 3 (ipykernel)",
   "language": "python",
   "name": "python3"
  },
  "language_info": {
   "codemirror_mode": {
    "name": "ipython",
    "version": 3
   },
   "file_extension": ".py",
   "mimetype": "text/x-python",
   "name": "python",
   "nbconvert_exporter": "python",
   "pygments_lexer": "ipython3",
   "version": "3.11.3"
  }
 },
 "nbformat": 4,
 "nbformat_minor": 5
}
