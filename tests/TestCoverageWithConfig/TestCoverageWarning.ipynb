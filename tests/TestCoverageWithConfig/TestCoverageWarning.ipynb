{
 "cells": [
  {
   "cell_type": "markdown",
   "id": "12d3268b-7d27-4ac9-b21a-fdd6f825d0bf",
   "metadata": {},
   "source": [
    "**Note:** This notebook only tests that the warning with `coverage=True` and an existing config files runs without issue"
   ]
  },
  {
   "cell_type": "code",
   "execution_count": null,
   "id": "bdf258d0-b8b7-4fbb-96c7-664d120c4abc",
   "metadata": {},
   "outputs": [],
   "source": [
    "import ipytest\n",
    "\n",
    "ipytest.autoconfig(coverage=True)"
   ]
  },
  {
   "cell_type": "code",
   "execution_count": null,
   "id": "f82fbdcb-2460-4f14-9ee5-c69571b4acfd",
   "metadata": {},
   "outputs": [],
   "source": [
    "%%ipytest\n",
    "\n",
    "\n",
    "def test():\n",
    "    pass"
   ]
  },
  {
   "cell_type": "code",
   "execution_count": null,
   "id": "8cd681fc-745d-438f-8cbf-968543d3afc9",
   "metadata": {},
   "outputs": [],
   "source": []
  }
 ],
 "metadata": {
  "kernelspec": {
   "display_name": "Python 3 (ipykernel)",
   "language": "python",
   "name": "python3"
  },
  "language_info": {
   "codemirror_mode": {
    "name": "ipython",
    "version": 3
   },
   "file_extension": ".py",
   "mimetype": "text/x-python",
   "name": "python",
   "nbconvert_exporter": "python",
   "pygments_lexer": "ipython3",
   "version": "3.11.3"
  }
 },
 "nbformat": 4,
 "nbformat_minor": 5
}
